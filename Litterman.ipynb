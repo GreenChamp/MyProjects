{
 "cells": [
  {
   "cell_type": "code",
   "execution_count": 33,
   "metadata": {},
   "outputs": [],
   "source": [
    "import pandas as pd\n",
    "import numpy as np\n",
    "from pypfopt import black_litterman, risk_models\n",
    "from pypfopt import BlackLittermanModel, plotting\n",
    "from pypfopt import EfficientFrontier, objective_functions\n",
    "\n",
    "def litterman(train_returns):\n",
    "    weights = {}\n",
    "    prior = {}\n",
    "    returns_bl = {}\n",
    "    for tick in train_returns.keys():\n",
    "        # Среднее по прошлому перформансу для каждого актива\n",
    "        prior[tick] = np.mean(train_returns.get(tick))\n",
    "    priors = pd.Series(prior)\n",
    "\n",
    "    for tick in train_returns.keys():\n",
    "        returns_bl[tick] = pd.Series(train_returns.get(tick), name = tick)\n",
    "\n",
    "    concatter = {}\n",
    "    for tick in train_returns.keys():\n",
    "        # Использование последних 25 тиков для оценки ковариационной матрицы\n",
    "        concatter[tick] = list(returns_bl.get(tick))\n",
    "\n",
    "    allresults = pd.DataFrame(concatter)\n",
    "    # ЛеДуа-Вульф-оценка\n",
    "    S = risk_models.CovarianceShrinkage(allresults, returns_data=True).ledoit_wolf()\n",
    "    viewdict = {}\n",
    "    for tick in train_returns.keys():\n",
    "        # Среднее по последним 25 тикам\n",
    "        viewdict[tick] = train_returns.get(tick).mean()\n",
    "\n",
    "    intervals = []\n",
    "    for tick in train_returns.keys():\n",
    "        intervals.append((np.percentile(train_returns.get(tick), 25), np.percentile(train_returns.get(tick), 75)))\n",
    "\n",
    "    variances = []\n",
    "    for lb, ub in intervals:\n",
    "        sigma = (ub - lb)/2\n",
    "        variances.append(sigma ** 2)\n",
    "    omega = np.diag(variances)\n",
    "    bl = BlackLittermanModel(S, absolute_views=viewdict, omega=omega, pi = priors)\n",
    "    ret_bl = bl.bl_returns()\n",
    "    S_bl = bl.bl_cov()\n",
    "    ef = EfficientFrontier(ret_bl, S_bl, weight_bounds=(-3,3))\n",
    "    try:\n",
    "        ef.max_quadratic_utility()\n",
    "        weights = ef.clean_weights()\n",
    "    except:\n",
    "        print('except')\n",
    "        pass\n",
    "    return weights"
   ]
  },
  {
   "cell_type": "code",
   "execution_count": 34,
   "metadata": {},
   "outputs": [
    {
     "data": {
      "text/plain": [
       "OrderedDict([('BZ=F', 0.07557),\n",
       "             ('GC=F', 0.29388),\n",
       "             ('NG=F', 0.05306),\n",
       "             ('SI=F', 0.20354),\n",
       "             ('^GSPC', 0.37395)])"
      ]
     },
     "execution_count": 34,
     "metadata": {},
     "output_type": "execute_result"
    }
   ],
   "source": [
    "litterman(dt)"
   ]
  },
  {
   "cell_type": "code",
   "execution_count": 31,
   "metadata": {},
   "outputs": [
    {
     "name": "stdout",
     "output_type": "stream",
     "text": [
      "[*********************100%***********************]  5 of 5 completed\n"
     ]
    }
   ],
   "source": [
    "import yfinance  as yf\n",
    "\n",
    "data = yf.download(tickers='GC=F SI=F ^GSPC BZ=F NG=F', period='6y', interval='1mo')['Close'].iloc[:-4].dropna()\n",
    "data[['^GSPC', 'BZ=F', 'NG=F']] = -data[['^GSPC', 'BZ=F', 'NG=F']].pct_change()\n",
    "data[['GC=F', 'SI=F']] = data[['GC=F', 'SI=F']].pct_change()\n",
    "data = data.iloc[1:]\n",
    "dt = {}\n",
    "for col in data.columns:\n",
    "    dt[col] = data[col].values"
   ]
  },
  {
   "cell_type": "code",
   "execution_count": 43,
   "metadata": {},
   "outputs": [],
   "source": [
    "weights = litterman(dt)\n",
    "\n",
    "returns = np.zeros(len(data))\n",
    "for key in list(weights.keys()):\n",
    "    returns += weights.get(key) * data[col].values"
   ]
  },
  {
   "cell_type": "code",
   "execution_count": 54,
   "metadata": {},
   "outputs": [
    {
     "data": {
      "text/plain": [
       "-0.07006466690171775"
      ]
     },
     "execution_count": 54,
     "metadata": {},
     "output_type": "execute_result"
    }
   ],
   "source": [
    "np.quantile(returns, 0.03, interpolation='higher')"
   ]
  },
  {
   "cell_type": "code",
   "execution_count": null,
   "metadata": {},
   "outputs": [],
   "source": []
  }
 ],
 "metadata": {
  "kernelspec": {
   "display_name": "Python 3",
   "language": "python",
   "name": "python3"
  },
  "language_info": {
   "codemirror_mode": {
    "name": "ipython",
    "version": 3
   },
   "file_extension": ".py",
   "mimetype": "text/x-python",
   "name": "python",
   "nbconvert_exporter": "python",
   "pygments_lexer": "ipython3",
   "version": "3.8.6"
  }
 },
 "nbformat": 4,
 "nbformat_minor": 4
}
